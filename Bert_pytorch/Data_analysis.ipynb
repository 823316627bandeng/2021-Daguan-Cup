{
 "cells": [
  {
   "cell_type": "markdown",
   "metadata": {},
   "source": [
    "- 比赛题目：第五届“达观杯” 基于大规模预训练模型的风险事件标签识别\n",
    "- 比赛链接：https://www.datafountain.cn/competitions/512"
   ]
  },
  {
   "cell_type": "markdown",
   "metadata": {},
   "source": [
    "## 1 导入包"
   ]
  },
  {
   "cell_type": "code",
   "execution_count": null,
   "metadata": {},
   "outputs": [],
   "source": [
    "import numpy as np\n",
    "import pandas as pd\n",
    "import matplotlib.pyplot as plt\n",
    "import seaborn as sns\n",
    "from pylab import rcParams\n",
    "%matplotlib inline\n",
    "%config InlineBackend.figure_format = 'retina'  # 主题\n",
    "\n",
    "plt.rcParams['font.sans-serif'] = ['SimHei']  # 步骤一（替换sans-serif字体）\n",
    "plt.rcParams['axes.unicode_minus'] = False   # 步骤二（解决坐标轴负数的负号显示问题）\n",
    "train_data_file = pd.read_csv(\n",
    "    'data/pesudo_label_data_114009.csv')\n",
    "test_data_file = pd.read_csv('data/datagrand_2021_test.csv')\n",
    "# picture_file = './documentation/picture/'\n"
   ]
  },
  {
   "cell_type": "code",
   "execution_count": null,
   "metadata": {},
   "outputs": [],
   "source": [
    "train_data_file.info()"
   ]
  },
  {
   "cell_type": "code",
   "execution_count": null,
   "metadata": {},
   "outputs": [],
   "source": [
    "test_data_file.info()"
   ]
  },
  {
   "cell_type": "markdown",
   "metadata": {},
   "source": [
    "# 2 统计词数"
   ]
  },
  {
   "cell_type": "code",
   "execution_count": null,
   "metadata": {},
   "outputs": [],
   "source": [
    "train_allwords = []\n",
    "for index, row in train_data_file.iterrows():\n",
    "    text = row[\"text\"].split()\n",
    "    train_allwords.extend(text)\n",
    "train_textdict = pd.value_counts(train_allwords)\n",
    "    \n",
    "testallwords = []\n",
    "for index, row in test_data_file.iterrows():\n",
    "    text = row[\"text\"].split()\n",
    "    testallwords.extend(text)\n",
    "test_textdict = pd.value_counts(testallwords)\n"
   ]
  },
  {
   "cell_type": "code",
   "execution_count": null,
   "metadata": {},
   "outputs": [],
   "source": [
    "# 训练集的词数\n",
    "\n",
    "train_vocab_size = len(train_textdict.keys())\n",
    "print(\"训练集的vpcab_size: {}\".format(train_vocab_size))"
   ]
  },
  {
   "cell_type": "code",
   "execution_count": null,
   "metadata": {},
   "outputs": [],
   "source": [
    "# 测试集的词数\n",
    "test_vocab_size = len(test_textdict.keys())\n",
    "print(\"测试集的vocab_size: {}\".format(test_vocab_size))"
   ]
  },
  {
   "cell_type": "code",
   "execution_count": null,
   "metadata": {},
   "outputs": [],
   "source": [
    "combined_keys = train_textdict.keys() | test_textdict.keys()\n",
    "d_comb = {key: train_textdict.get(key, 0) + test_textdict.get(key, 0) for key in combined_keys}\n",
    "print(\"总数据集的vocab_size: {}\".format(len(d_comb)))\n"
   ]
  },
  {
   "cell_type": "code",
   "execution_count": null,
   "metadata": {},
   "outputs": [],
   "source": [
    "sorted(d_comb.items(), key=lambda x: x[1], reverse=True)"
   ]
  },
  {
   "cell_type": "markdown",
   "metadata": {},
   "source": [
    "## 2 统计句子长度分布"
   ]
  },
  {
   "cell_type": "code",
   "execution_count": null,
   "metadata": {},
   "outputs": [],
   "source": [
    "train_data_file['text'].map(len).describe()\n"
   ]
  },
  {
   "cell_type": "code",
   "execution_count": null,
   "metadata": {},
   "outputs": [],
   "source": [
    "train_data_file.text.apply(lambda x:len(x.strip().split())).describe()\n"
   ]
  },
  {
   "cell_type": "code",
   "execution_count": null,
   "metadata": {},
   "outputs": [],
   "source": [
    "test_data_file['text'].map(len).describe()\n"
   ]
  },
  {
   "cell_type": "code",
   "execution_count": null,
   "metadata": {},
   "outputs": [],
   "source": [
    "test_data_file.text.apply(lambda x: len(x.strip().split())).describe()\n"
   ]
  },
  {
   "cell_type": "markdown",
   "metadata": {},
   "source": [
    "### 2.1 查看缺失值"
   ]
  },
  {
   "cell_type": "code",
   "execution_count": null,
   "metadata": {},
   "outputs": [],
   "source": [
    "# 查看是否有缺失值\n",
    "train_data_file.isnull().sum()\n"
   ]
  },
  {
   "cell_type": "code",
   "execution_count": null,
   "metadata": {},
   "outputs": [],
   "source": [
    "test_data_file.isnull().sum()\n"
   ]
  },
  {
   "cell_type": "markdown",
   "metadata": {},
   "source": [
    "### 2.2 标签分布"
   ]
  },
  {
   "cell_type": "code",
   "execution_count": null,
   "metadata": {},
   "outputs": [],
   "source": [
    "train_data_file['label'].value_counts()\n"
   ]
  },
  {
   "cell_type": "code",
   "execution_count": null,
   "metadata": {},
   "outputs": [],
   "source": [
    "labeldict = dict(train_data_file['label'].value_counts())\n"
   ]
  },
  {
   "cell_type": "code",
   "execution_count": null,
   "metadata": {},
   "outputs": [],
   "source": [
    "labellist = list(labeldict.keys())\n",
    "f_level = []\n",
    "s_level = []\n",
    "for i in range(len(labellist)):\n",
    "    a, b = labellist[i].split(\"-\")\n",
    "    f_level.append(a)\n",
    "    s_level.append(b)\n"
   ]
  },
  {
   "cell_type": "code",
   "execution_count": null,
   "metadata": {},
   "outputs": [],
   "source": [
    "list(set(s_level))\n"
   ]
  },
  {
   "cell_type": "code",
   "execution_count": null,
   "metadata": {},
   "outputs": [],
   "source": [
    "n_s_level = [int(x) for x in list(set(s_level))]\n",
    "n_s_level.sort()\n",
    "n_s_level\n"
   ]
  },
  {
   "cell_type": "code",
   "execution_count": null,
   "metadata": {},
   "outputs": [],
   "source": [
    "plt.bar(labeldict.keys(), labeldict.values())\n",
    "plt.xlabel('label count')\n"
   ]
  }
 ],
 "metadata": {
  "interpreter": {
   "hash": "916dbcbb3f70747c44a77c7bcd40155683ae19c65e1c03b4aa3499c5328201f1"
  },
  "kernelspec": {
   "display_name": "Python 3.7.3 64-bit",
   "name": "python3"
  },
  "language_info": {
   "name": "python",
   "version": ""
  }
 },
 "nbformat": 4,
 "nbformat_minor": 4
}