{
 "cells": [
  {
   "cell_type": "code",
   "execution_count": null,
   "metadata": {},
   "outputs": [],
   "source": [
    "import pandas as pd\n",
    "import numpy as np\n",
    "import os\n",
    "from pprint import pprint\n"
   ]
  },
  {
   "cell_type": "markdown",
   "metadata": {},
   "source": [
    "# 1 加载数据"
   ]
  },
  {
   "cell_type": "code",
   "execution_count": null,
   "metadata": {},
   "outputs": [],
   "source": [
    "DATA_DIR ='./submit/'\n",
    "files = os.listdir(DATA_DIR)\n",
    "files = [i for i in files if i[0]!='.']\n",
    "print(len(files))\n",
    "pprint(files)"
   ]
  },
  {
   "cell_type": "code",
   "execution_count": null,
   "metadata": {},
   "outputs": [],
   "source": [
    "train = pd.read_csv('./data/datagrand_2021_train.csv')\n",
    "#将标签进行转换\n",
    "label_id2cate = dict(enumerate(train.label.unique()))\n",
    "label_cate2id = {value: key for key, value in label_id2cate.items()}\n",
    "\n",
    "# 合并所有结果\n",
    "sub_exp_df = pd.read_csv('./data/datagrand_2021_test.csv')\n",
    "df_merged = sub_exp_df.drop(['text'], axis=1)\n",
    "for file in files:\n",
    "    tmp_df = pd.read_csv(DATA_DIR + file)\n",
    "    tmp_df['ylabel'] = tmp_df['label'].map(label_cate2id)\n",
    "    df_merged[file] = tmp_df['label'].map(label_cate2id)\n",
    "df_merged.head()"
   ]
  },
  {
   "cell_type": "markdown",
   "metadata": {},
   "source": [
    "## 1.1 计算pearson相关系数"
   ]
  },
  {
   "cell_type": "code",
   "execution_count": null,
   "metadata": {},
   "outputs": [],
   "source": [
    "x = df_merged['a.csv']\n",
    "for i in range(len(files)):\n",
    "    y = df_merged[files[i]]\n",
    "    r = x.corr(y,method=\"kendall\") #-0.2611165\n",
    "    print(files[i],r)"
   ]
  },
  {
   "cell_type": "markdown",
   "metadata": {},
   "source": [
    "# 2 投票融合"
   ]
  },
  {
   "cell_type": "code",
   "execution_count": null,
   "metadata": {},
   "outputs": [],
   "source": [
    "\n",
    "# 计票\n",
    "def work(pres):\n",
    "    count = [0]*35\n",
    "    for i in pres:\n",
    "        count[i] += 1\n",
    "    out = count.index(max(count))\n",
    "    return out"
   ]
  },
  {
   "cell_type": "code",
   "execution_count": null,
   "metadata": {},
   "outputs": [],
   "source": [
    "tmp_arr = np.array(df_merged.iloc[:,1:])\n",
    "label_voted = [work(line) for line in tmp_arr]"
   ]
  },
  {
   "cell_type": "code",
   "execution_count": null,
   "metadata": {},
   "outputs": [],
   "source": [
    "\n",
    "submit_df = sub_exp_df.drop(['text'], axis=1)\n",
    "submit_df['label'] = label_voted\n",
    "submit_df['label'] = submit_df['label'].map(label_id2cate)\n"
   ]
  },
  {
   "cell_type": "code",
   "execution_count": null,
   "metadata": {},
   "outputs": [],
   "source": [
    "submit_df.head()"
   ]
  },
  {
   "cell_type": "code",
   "execution_count": null,
   "metadata": {},
   "outputs": [],
   "source": [
    "model_name = \"voting-a-b\"\n",
    "submit_df.to_csv('./voting_data/{}.csv'.format(model_name), index=False)"
   ]
  },
  {
   "cell_type": "markdown",
   "metadata": {},
   "source": [
    "# 3 投票生成伪标签"
   ]
  },
  {
   "cell_type": "code",
   "execution_count": null,
   "metadata": {},
   "outputs": [],
   "source": [
    "# 计票\n",
    "def work_high(pres):\n",
    "    count = [0]*35\n",
    "    for i in pres:\n",
    "        count[i] += 1\n",
    "    p = len(files)-1 # 该数字根据融合的文件自定义的，如果有11个文件，设该值为11表示，11个结果都投票才可以作为伪标签数据\n",
    "    if max(count) >p:\n",
    "        out = count.index(max(count))\n",
    "    else:\n",
    "        out = -1\n",
    "    return out\n",
    "\n",
    "tmp_arr = np.array(df_merged.iloc[:,1:])\n",
    "label_voted = [work_high(line) for line in tmp_arr]\n",
    "# 没有做伪标签的数据数量\n",
    "print(label_voted.count(-1))\n"
   ]
  },
  {
   "cell_type": "code",
   "execution_count": null,
   "metadata": {},
   "outputs": [],
   "source": [
    "test_data =  sub_exp_df\n",
    "test_data['label'] = label_voted\n",
    "# 删除不能作为伪标签的数据\n",
    "test_data = test_data.drop(test_data[test_data['label']==-1].index)\n",
    "len(test_data)"
   ]
  },
  {
   "cell_type": "code",
   "execution_count": null,
   "metadata": {},
   "outputs": [],
   "source": [
    "# 反编码映射\n",
    "model_name = \"pseudo_label_data\"\n",
    "test_data['label'] = test_data['label'].map(label_id2cate)\n",
    "test_data"
   ]
  },
  {
   "cell_type": "code",
   "execution_count": null,
   "metadata": {},
   "outputs": [],
   "source": [
    "test_data"
   ]
  },
  {
   "cell_type": "code",
   "execution_count": null,
   "metadata": {},
   "outputs": [],
   "source": [
    "# 读取原始训练集\n",
    "pseudo_train = train\n",
    "# 合并原始训练集和伪标签数据\n",
    "pseudo_label_train = pd.concat([pseudo_train,test_data]).reset_index().drop(columns=['index'])\n",
    "model_name = \"./data/pseudo_train_data_{}\".format(len(pseudo_label_train))\n",
    "pseudo_label_train.to_csv('{}.csv'.format(model_name), index=False)"
   ]
  },
  {
   "cell_type": "code",
   "execution_count": null,
   "metadata": {},
   "outputs": [],
   "source": [
    "pseudo_label_train"
   ]
  },
  {
   "cell_type": "code",
   "execution_count": null,
   "metadata": {},
   "outputs": [],
   "source": [
    "pseudo_label_train"
   ]
  }
 ],
 "metadata": {
  "interpreter": {
   "hash": "d0af45aabaa4bdc75d90fcfc8fc229e38c92ba6df4ad10e64e4ab597fb95609a"
  },
  "kernelspec": {
   "display_name": "Python 3.8.5 64-bit ('base': conda)",
   "name": "python3"
  },
  "language_info": {
   "name": "python",
   "version": ""
  }
 },
 "nbformat": 4,
 "nbformat_minor": 2
}